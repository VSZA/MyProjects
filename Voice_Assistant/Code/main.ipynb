{
 "cells": [
  {
   "cell_type": "code",
   "execution_count": 63,
   "metadata": {},
   "outputs": [],
   "source": [
    "import whisper\n",
    "import pyaudio\n",
    "import wave\n",
    "import os\n",
    "from pyChatGPT import ChatGPT\n",
    "from time import sleep\n",
    "from gtts import gTTS\n",
    "import mutagen\n",
    "import sounddevice as sd\n",
    "import soundfile as sf"
   ]
  },
  {
   "cell_type": "code",
   "execution_count": 64,
   "metadata": {},
   "outputs": [
    {
     "name": "stdout",
     "output_type": "stream",
     "text": [
      "* recording\n",
      "* done recording\n"
     ]
    }
   ],
   "source": [
    "CHUNK = 1024\n",
    "FORMAT = pyaudio.paInt16\n",
    "CHANNELS = 1\n",
    "RATE = 44100\n",
    "RECORD_SECONDS = 7\n",
    "WAVE_OUTPUT_FILENAME = \"audio.wav\"\n",
    "\n",
    "p = pyaudio.PyAudio()\n",
    "\n",
    "stream = p.open(format=FORMAT,\n",
    "                channels=CHANNELS,\n",
    "                rate=RATE,\n",
    "                input=True,\n",
    "                frames_per_buffer=CHUNK)\n",
    "\n",
    "print(\"* recording\")\n",
    "\n",
    "frames = []\n",
    "\n",
    "for i in range(0, int(RATE / CHUNK * RECORD_SECONDS)):\n",
    "    data = stream.read(CHUNK)\n",
    "    frames.append(data)\n",
    "\n",
    "print(\"* done recording\")\n",
    "\n",
    "stream.stop_stream()\n",
    "stream.close()\n",
    "p.terminate()\n",
    "\n",
    "wf = wave.open(WAVE_OUTPUT_FILENAME, 'wb')\n",
    "wf.setnchannels(CHANNELS)\n",
    "wf.setsampwidth(p.get_sample_size(FORMAT))\n",
    "wf.setframerate(RATE)\n",
    "wf.writeframes(b''.join(frames))\n",
    "wf.close()\n",
    "\n"
   ]
  },
  {
   "cell_type": "code",
   "execution_count": 65,
   "metadata": {},
   "outputs": [
    {
     "name": "stderr",
     "output_type": "stream",
     "text": [
      "C:\\Users\\András\\AppData\\Local\\Packages\\PythonSoftwareFoundation.Python.3.10_qbz5n2kfra8p0\\LocalCache\\local-packages\\Python310\\site-packages\\whisper\\transcribe.py:78: UserWarning: FP16 is not supported on CPU; using FP32 instead\n",
      "  warnings.warn(\"FP16 is not supported on CPU; using FP32 instead\")\n"
     ]
    },
    {
     "name": "stdout",
     "output_type": "stream",
     "text": [
      " Write me a short poem about summer.\n"
     ]
    }
   ],
   "source": [
    "model = whisper.load_model(\"base\")\n",
    "result = model.transcribe(\"audio.wav\")\n",
    "result_text = result[\"text\"]\n",
    "language = result['language']\n",
    "print(result['text'])\n",
    "os.remove(\"audio.wav\")"
   ]
  },
  {
   "cell_type": "code",
   "execution_count": 66,
   "metadata": {},
   "outputs": [
    {
     "name": "stdout",
     "output_type": "stream",
     "text": [
      "{'text': ' Write me a short poem about summer.', 'segments': [{'id': 0, 'seek': 0, 'start': 0.0, 'end': 7.0, 'text': ' Write me a short poem about summer.', 'tokens': [50364, 23499, 385, 257, 2099, 13065, 466, 4266, 13, 50714], 'temperature': 0.0, 'avg_logprob': -0.46199503811922943, 'compression_ratio': 0.813953488372093, 'no_speech_prob': 0.11185072362422943}], 'language': 'en'}\n"
     ]
    }
   ],
   "source": [
    "print(result)"
   ]
  },
  {
   "cell_type": "code",
   "execution_count": 67,
   "metadata": {},
   "outputs": [
    {
     "name": "stdout",
     "output_type": "stream",
     "text": [
      "Summer sun, warm and bright,\n",
      "Bringing life to all in sight.\n",
      "Fields of green and flowers in bloom,\n",
      "Nature's beauty on full display, soon.\n",
      "Birds singing sweet melodies,\n",
      "Breezes blowing gently, a pleasant breeze.\n",
      "Children playing, laughter in the air,\n",
      "Summertime, a season without a care.\n",
      "So let us soak up the sun,\n",
      "And enjoy all that summer has begun.\n",
      "\n",
      "\n"
     ]
    }
   ],
   "source": [
    "session_token = 'eyJhbGciOiJkaXIiLCJlbmMiOiJBMjU2R0NNIn0..ahJTJgR5890QRGwb.4evzUCEBK9s-n46zBPGfR7KNip-M6ReW999cEsartERrcjRT8n0RHbLyFpv6oWYrfSzl1PTqkZt1W2WIIp5Xj4WKjL_4dGc21UjeLsimLee_jAIL3_GkgieHpfckBVEqrSR42qNqnYuRRjmL2oY9IVprXID73Ie62wLjXYP-RXc4OHYSYtcgwNNx6nhEBCwPl3Qmr5h2uKNmDSM3visc3ScKOEls1afJ6Ldyh6rc8vr1MgQrJ7CcWYIjOvxbrhK2yLUJnH5w5wiSBuPtSt0J46nJuNoakUpwJl3mzZ8MDJB3YqcyU4sjQ7azCYVNQ9Yl6dfqvj3qXMLp3wT-RMuYLnjlOeIC87dLqXNghvH5jOf0Ost6d-iHzq8busJjj0cvmiwkT30IDqB0sQRfYnC7LbSKMskhqJCdcQWQVz9OHO8FBk5T_BNi3MCYBtwMXNORpLzq74nNGwDg0bYzfg9G9ue-KbWCzAsIA4IcRMwPTYmPzQRm6F9VoKp_nNOetGohDzdC0llw161dNG56wyDF5VqREOXqE-dE-chEzHNk4imvSjTPZi3xSZVuPzsXb5HmunAeObpVh-fiWHcVPPGYyFFUdK3RFtMTLHQEv6g6iLJMjvTxuzE2NILnuC0ysprsri3m0DYfDCtDsXGQOGNgX4vi2MWeTzhatp2hdOK2pPPmeZImUaWcU5OEJ87GgAwk1G5Ej9P87GPTrLZdxe7gzcJk0pr7NIRu_mTADRdmgxDEKgnYDpP5IGgsDicsedIQJ8rNb0LYaWmdPLU4-5fUTwej9VT_hS4mA1DIm3xAmtyBsqGwQknhUb7mHjCMa8muWqD7RKqr1MWiRpH_HhGxOsLfcKN3nX8s3we2CtTvyO2giIS2s8NSht5VhRIYO5UdEOmsfZNrWuZDBawH65lDjxtRPVaVoe6GaSrWPnlEXg2MbWyWZBRNvzNcfGCN8d0IKN-xdLcyPXg8yS-SlMJMe4TUB7id_IFIYmhZF00w27WkpXoOMrJDOk_33DcSP8O41iy5aHF7dlp_oe6rguIey2Z2ld4H67w1QE0y6HYFojdkyeheROWuko9aSXusvcXsUXMpOL39Tma9aXpPosKKKcA3PlSounPyCa9MMOqGCjX6o8Xlt3-1CD7I6YG0VuYxfXK87iEr2mNmoXdN2k4Y3Z0D3bUVM_mcGb2GnIoV2Z-_FCbgp2GoB5Ce_3XK7-jTQUG2iF4U_fFtUCKxubUat_K8TVFBT-3o3J102mfMj3y0Ft5bMkfHUbE98GLPmyqwszaNGjNtT8NgybLdgYhKnU9Qq012sTIjS6mG5Lh2mnN-HfOBCPj2zlES317mMhi7t1ip7pQlAk2LaLyFlVDnZDeQoqlZRzy6dc7RKG3eZ_waGTkbv1AWjCOoM5cwObVzfaoSjBZPJyzcEvF5wI3PcT5niakHfn2wiBIRTv4l3FAlUKGMcJbDJ9cCEchvJqwUb2Iq5IeyF84DQTd1OJ38NjKM5NjiuY6Qu0Q58yYJCKk25bexcH2baaL8BOxbY9JbaLKOOJayCpkZ2W98wcGsynoTEe7ATLUwitnIYI9jNgXB-CGmElOX2etqrmbopp59E6BpUOVw13p7GgyqAgyD96Z6O5igtSUZU9BCFC7UDFS8Mfx2978CQqVRV7N5XJfaN5AgpZygO38RLsuzfnooK4L_j_e4H0oN-0RZttsCv26-a7Vvvrj_dgFS14xPWYNXhZPuokzNjagkSAEIfQgEJOoEXJQ00PekL1p3tEeGfYKlSo08Dk4CpEnqQiOLuaEnhHaM8ZcpRENXo6qCC9YoUXHbkWGPaPg2zExgS0WMk8ZvuFp4AfU5EP6AQPU2_3PWDdcDAYyqlx1aR1XKH2sD2eEK842xYfYLDtXdKlLxZFgnA-f753ZZF18zt-q7iXo-bXLdCchtxxbfvskD7vRbD2TSQA1G4ThAUJ0x1wvn2FVQ3uvCn99c5plLbQmLO2pUXjV0eGV_SWzgF-utvMLhHYS-5hUfdavKTjNWXgDDESltaSVSjXAo5U8JHOdUJEno1QRMbbf_9z-BoNJWlgpoFAGoaNn4y7DaQhxy7jTmo3o8dNIumezNlJrblcEm24-zs66m3Q9-hr9OYdwjPaYA_je1HXPJUsqg-HaiI0RnMuAI6g09NYhgV3F-EwMl_u9wBYOxVUfLWqBk1d8mJj6-WZ-_V4jPqfQiRRLIaxvzQyfDRm6eA_-MtYBoMrBRkq4cNQffvmBSS5AFE87Kci0VOoo9uJtl.zE4m_0V7-fO6L-UUAaCfyA'\n",
    "api = ChatGPT(session_token)\n",
    "# api2 = ChatGPT(email='vszandras@gmail.com', password='Sardna727362')\n",
    "resp = api.send_message(result_text)\n",
    "resp_txt = resp['message']\n",
    "print(resp['message'])\n",
    "\n"
   ]
  },
  {
   "cell_type": "code",
   "execution_count": 68,
   "metadata": {},
   "outputs": [],
   "source": [
    "myobj = gTTS(text=resp_txt, lang=language, slow=False)\n",
    "myobj.save(\"response.wav\")\n",
    "\n",
    "filename = 'response.wav'\n",
    "# Extract data and sampling rate from file\n",
    "data, fs = sf.read(filename, dtype='float32')  \n",
    "sd.play(data, fs)\n",
    "status = sd.wait()  # Wait until file is done playing\n",
    "os.remove(\"response.wav\")"
   ]
  }
 ],
 "metadata": {
  "kernelspec": {
   "display_name": "Python 3",
   "language": "python",
   "name": "python3"
  },
  "language_info": {
   "codemirror_mode": {
    "name": "ipython",
    "version": 3
   },
   "file_extension": ".py",
   "mimetype": "text/x-python",
   "name": "python",
   "nbconvert_exporter": "python",
   "pygments_lexer": "ipython3",
   "version": "3.10.9 (tags/v3.10.9:1dd9be6, Dec  6 2022, 20:01:21) [MSC v.1934 64 bit (AMD64)]"
  },
  "orig_nbformat": 4,
  "vscode": {
   "interpreter": {
    "hash": "eb26704fb02eae938e2f66a0b5827a81cc0efb2c666e8669733b73a6ffa9c7d3"
   }
  }
 },
 "nbformat": 4,
 "nbformat_minor": 2
}
