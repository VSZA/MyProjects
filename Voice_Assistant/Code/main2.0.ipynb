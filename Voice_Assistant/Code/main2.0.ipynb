{
 "cells": [
  {
   "cell_type": "code",
   "execution_count": 20,
   "metadata": {},
   "outputs": [
    {
     "name": "stdout",
     "output_type": "stream",
     "text": [
      "Talk\n",
      "result2:\n",
      "{   'alternative': [   {'confidence': 0.80955589, 'transcript': 'Jervis'},\n",
      "                       {'transcript': 'Gervais'},\n",
      "                       {'transcript': 'Jarvis'},\n",
      "                       {'transcript': 'service'},\n",
      "                       {'transcript': 'nervous'}],\n",
      "    'final': True}\n",
      "Text: Jervis\n"
     ]
    }
   ],
   "source": [
    "import speech_recognition as sr\n",
    "from gtts import gTTS\n",
    "import os\n",
    "import sounddevice as sd\n",
    "import soundfile as sf\n",
    "\n",
    "def idle():\n",
    "    question = \"\"\n",
    "    while question != \"Jarvis\" and question != \"Jervis\":\n",
    "        # Initialize recognizer class (for recognizing the speech)\n",
    "        r = sr.Recognizer()\n",
    "\n",
    "        # Reading Microphone as source\n",
    "        # listening the speech and store in audio_text variable\n",
    "        source = sr.Microphone\n",
    "        with sr.Microphone() as source:\n",
    "            print(\"Talk\")\n",
    "            audio_text = r.listen(source)\n",
    "            # print(\"Time over, thanks\")\n",
    "\n",
    "        # recoginize_() method will throw a request error if the API is unreachable, hence using exception handling\n",
    "            try:\n",
    "                # using google speech recognition\n",
    "                question = r.recognize_google(audio_text)\n",
    "                print(\"Text: \"+question)\n",
    "            except:\n",
    "                print(\"Sorry, I did not get that\")\n",
    "                \n",
    "        \n",
    "        if question == \"Jarvis\" or question == \"Jervis\":\n",
    "            resp_txt = \"How can i help you?\"\n",
    "            myobj = gTTS(text=resp_txt, lang=\"en\", slow=False)\n",
    "            myobj.save(\"response.wav\")\n",
    "            filename = 'response.wav'\n",
    "            # Extract data and sampling rate from file\n",
    "            data, fs = sf.read(filename, dtype='float32')  \n",
    "            sd.play(data, fs)\n",
    "            status = sd.wait()  # Wait until file is done playing\n",
    "            os.remove(\"response.wav\")\n",
    "            break\n",
    "        \n",
    "def task():\n",
    "    question = \"\"\n",
    "    while question != \"no\" and question != \"end\":\n",
    "        # Initialize recognizer class (for recognizing the speech)\n",
    "        r = sr.Recognizer()\n",
    "\n",
    "        # Reading Microphone as source\n",
    "        # listening the speech and store in audio_text variable\n",
    "        source = sr.Microphone\n",
    "        with sr.Microphone() as source:\n",
    "            print(\"Talk\")\n",
    "            audio_text = r.listen(source)\n",
    "            # print(\"Time over, thanks\")\n",
    "\n",
    "        # recoginize_() method will throw a request error if the API is unreachable, hence using exception handling\n",
    "            try:\n",
    "                # using google speech recognition\n",
    "                question = r.recognize_google(audio_text)\n",
    "                print(\"Text: \"+question)\n",
    "            except:\n",
    "                print(\"Sorry, I did not get that\")\n",
    "                \n",
    "        \n",
    "        if question == \"Jarvis\" or question == \"Jervis\":\n",
    "            resp_txt = \"How can i help you?\"\n",
    "            myobj = gTTS(text=resp_txt, lang=\"en\", slow=False)\n",
    "            myobj.save(\"response.wav\")\n",
    "            filename = 'response.wav'\n",
    "            # Extract data and sampling rate from file\n",
    "            data, fs = sf.read(filename, dtype='float32')  \n",
    "            sd.play(data, fs)\n",
    "            status = sd.wait()  # Wait until file is done playing\n",
    "            os.remove(\"response.wav\")\n",
    "            break\n",
    "\n",
    "idle()\n",
    "\n"
   ]
  },
  {
   "cell_type": "code",
   "execution_count": 38,
   "metadata": {},
   "outputs": [
    {
     "name": "stderr",
     "output_type": "stream",
     "text": [
      "C:\\Users\\András\\AppData\\Local\\Temp\\ipykernel_1648\\3949227791.py:8: DeprecationWarning: executable_path has been deprecated, please pass in a Service object\n",
      "  driver = webdriver.Chrome('chromedriver.exe', chrome_options=options)\n",
      "C:\\Users\\András\\AppData\\Local\\Temp\\ipykernel_1648\\3949227791.py:8: DeprecationWarning: use options instead of chrome_options\n",
      "  driver = webdriver.Chrome('chromedriver.exe', chrome_options=options)\n"
     ]
    },
    {
     "ename": "WebDriverException",
     "evalue": "Message: unknown error: Chrome failed to start: exited normally.\n  (unknown error: DevToolsActivePort file doesn't exist)\n  (The process started from chrome location C:\\Program Files\\Google\\Chrome\\Application\\chrome.exe is no longer running, so ChromeDriver is assuming that Chrome has crashed.)\nStacktrace:\nBacktrace:\n\t(No symbol) [0x00886643]\n\t(No symbol) [0x0081BE21]\n\t(No symbol) [0x0071DA9D]\n\t(No symbol) [0x0073F2A7]\n\t(No symbol) [0x0073A899]\n\t(No symbol) [0x00776917]\n\t(No symbol) [0x0077655C]\n\t(No symbol) [0x0076FB76]\n\t(No symbol) [0x007449C1]\n\t(No symbol) [0x00745E5D]\n\tGetHandleVerifier [0x00AFA142+2497106]\n\tGetHandleVerifier [0x00B285D3+2686691]\n\tGetHandleVerifier [0x00B2BB9C+2700460]\n\tGetHandleVerifier [0x00933B10+635936]\n\t(No symbol) [0x00824A1F]\n\t(No symbol) [0x0082A418]\n\t(No symbol) [0x0082A505]\n\t(No symbol) [0x0083508B]\n\tBaseThreadInitThunk [0x772C7D69+25]\n\tRtlInitializeExceptionChain [0x77C4BB9B+107]\n\tRtlClearBits [0x77C4BB1F+191]\n",
     "output_type": "error",
     "traceback": [
      "\u001b[1;31m---------------------------------------------------------------------------\u001b[0m",
      "\u001b[1;31mWebDriverException\u001b[0m                        Traceback (most recent call last)",
      "Cell \u001b[1;32mIn [38], line 8\u001b[0m\n\u001b[0;32m      6\u001b[0m options \u001b[39m=\u001b[39m webdriver\u001b[39m.\u001b[39mChromeOptions()\n\u001b[0;32m      7\u001b[0m options\u001b[39m.\u001b[39madd_argument(\u001b[39m'\u001b[39m\u001b[39muser-data-dir=C:\u001b[39m\u001b[39m\\\\\u001b[39;00m\u001b[39mUsers\u001b[39m\u001b[39m\\\\\u001b[39;00m\u001b[39mAndrás\u001b[39m\u001b[39m\\\\\u001b[39;00m\u001b[39mAppData\u001b[39m\u001b[39m\\\\\u001b[39;00m\u001b[39mLocal\u001b[39m\u001b[39m\\\\\u001b[39;00m\u001b[39mGoogle\u001b[39m\u001b[39m\\\\\u001b[39;00m\u001b[39mChrome\u001b[39m\u001b[39m\\\\\u001b[39;00m\u001b[39mUser Data\u001b[39m\u001b[39m'\u001b[39m)\n\u001b[1;32m----> 8\u001b[0m driver \u001b[39m=\u001b[39m webdriver\u001b[39m.\u001b[39;49mChrome(\u001b[39m'\u001b[39;49m\u001b[39mchromedriver.exe\u001b[39;49m\u001b[39m'\u001b[39;49m, chrome_options\u001b[39m=\u001b[39;49moptions)\n\u001b[0;32m      9\u001b[0m driver\u001b[39m.\u001b[39mget(\u001b[39m\"\u001b[39m\u001b[39mhttps://music.youtube.com/playlist?list=LM\u001b[39m\u001b[39m\"\u001b[39m)\n",
      "File \u001b[1;32m~\\AppData\\Local\\Packages\\PythonSoftwareFoundation.Python.3.10_qbz5n2kfra8p0\\LocalCache\\local-packages\\Python310\\site-packages\\selenium\\webdriver\\chrome\\webdriver.py:69\u001b[0m, in \u001b[0;36mWebDriver.__init__\u001b[1;34m(self, executable_path, port, options, service_args, desired_capabilities, service_log_path, chrome_options, service, keep_alive)\u001b[0m\n\u001b[0;32m     66\u001b[0m \u001b[39mif\u001b[39;00m \u001b[39mnot\u001b[39;00m service:\n\u001b[0;32m     67\u001b[0m     service \u001b[39m=\u001b[39m Service(executable_path, port, service_args, service_log_path)\n\u001b[1;32m---> 69\u001b[0m \u001b[39msuper\u001b[39;49m()\u001b[39m.\u001b[39;49m\u001b[39m__init__\u001b[39;49m(DesiredCapabilities\u001b[39m.\u001b[39;49mCHROME[\u001b[39m'\u001b[39;49m\u001b[39mbrowserName\u001b[39;49m\u001b[39m'\u001b[39;49m], \u001b[39m\"\u001b[39;49m\u001b[39mgoog\u001b[39;49m\u001b[39m\"\u001b[39;49m,\n\u001b[0;32m     70\u001b[0m                  port, options,\n\u001b[0;32m     71\u001b[0m                  service_args, desired_capabilities,\n\u001b[0;32m     72\u001b[0m                  service_log_path, service, keep_alive)\n",
      "File \u001b[1;32m~\\AppData\\Local\\Packages\\PythonSoftwareFoundation.Python.3.10_qbz5n2kfra8p0\\LocalCache\\local-packages\\Python310\\site-packages\\selenium\\webdriver\\chromium\\webdriver.py:92\u001b[0m, in \u001b[0;36mChromiumDriver.__init__\u001b[1;34m(self, browser_name, vendor_prefix, port, options, service_args, desired_capabilities, service_log_path, service, keep_alive)\u001b[0m\n\u001b[0;32m     89\u001b[0m \u001b[39mself\u001b[39m\u001b[39m.\u001b[39mservice\u001b[39m.\u001b[39mstart()\n\u001b[0;32m     91\u001b[0m \u001b[39mtry\u001b[39;00m:\n\u001b[1;32m---> 92\u001b[0m     \u001b[39msuper\u001b[39;49m()\u001b[39m.\u001b[39;49m\u001b[39m__init__\u001b[39;49m(\n\u001b[0;32m     93\u001b[0m         command_executor\u001b[39m=\u001b[39;49mChromiumRemoteConnection(\n\u001b[0;32m     94\u001b[0m             remote_server_addr\u001b[39m=\u001b[39;49m\u001b[39mself\u001b[39;49m\u001b[39m.\u001b[39;49mservice\u001b[39m.\u001b[39;49mservice_url,\n\u001b[0;32m     95\u001b[0m             browser_name\u001b[39m=\u001b[39;49mbrowser_name, vendor_prefix\u001b[39m=\u001b[39;49mvendor_prefix,\n\u001b[0;32m     96\u001b[0m             keep_alive\u001b[39m=\u001b[39;49mkeep_alive, ignore_proxy\u001b[39m=\u001b[39;49m_ignore_proxy),\n\u001b[0;32m     97\u001b[0m         options\u001b[39m=\u001b[39;49moptions)\n\u001b[0;32m     98\u001b[0m \u001b[39mexcept\u001b[39;00m \u001b[39mException\u001b[39;00m:\n\u001b[0;32m     99\u001b[0m     \u001b[39mself\u001b[39m\u001b[39m.\u001b[39mquit()\n",
      "File \u001b[1;32m~\\AppData\\Local\\Packages\\PythonSoftwareFoundation.Python.3.10_qbz5n2kfra8p0\\LocalCache\\local-packages\\Python310\\site-packages\\selenium\\webdriver\\remote\\webdriver.py:272\u001b[0m, in \u001b[0;36mWebDriver.__init__\u001b[1;34m(self, command_executor, desired_capabilities, browser_profile, proxy, keep_alive, file_detector, options)\u001b[0m\n\u001b[0;32m    270\u001b[0m \u001b[39mself\u001b[39m\u001b[39m.\u001b[39m_authenticator_id \u001b[39m=\u001b[39m \u001b[39mNone\u001b[39;00m\n\u001b[0;32m    271\u001b[0m \u001b[39mself\u001b[39m\u001b[39m.\u001b[39mstart_client()\n\u001b[1;32m--> 272\u001b[0m \u001b[39mself\u001b[39;49m\u001b[39m.\u001b[39;49mstart_session(capabilities, browser_profile)\n",
      "File \u001b[1;32m~\\AppData\\Local\\Packages\\PythonSoftwareFoundation.Python.3.10_qbz5n2kfra8p0\\LocalCache\\local-packages\\Python310\\site-packages\\selenium\\webdriver\\remote\\webdriver.py:364\u001b[0m, in \u001b[0;36mWebDriver.start_session\u001b[1;34m(self, capabilities, browser_profile)\u001b[0m\n\u001b[0;32m    362\u001b[0m w3c_caps \u001b[39m=\u001b[39m _make_w3c_caps(capabilities)\n\u001b[0;32m    363\u001b[0m parameters \u001b[39m=\u001b[39m {\u001b[39m\"\u001b[39m\u001b[39mcapabilities\u001b[39m\u001b[39m\"\u001b[39m: w3c_caps}\n\u001b[1;32m--> 364\u001b[0m response \u001b[39m=\u001b[39m \u001b[39mself\u001b[39;49m\u001b[39m.\u001b[39;49mexecute(Command\u001b[39m.\u001b[39;49mNEW_SESSION, parameters)\n\u001b[0;32m    365\u001b[0m \u001b[39mif\u001b[39;00m \u001b[39m'\u001b[39m\u001b[39msessionId\u001b[39m\u001b[39m'\u001b[39m \u001b[39mnot\u001b[39;00m \u001b[39min\u001b[39;00m response:\n\u001b[0;32m    366\u001b[0m     response \u001b[39m=\u001b[39m response[\u001b[39m'\u001b[39m\u001b[39mvalue\u001b[39m\u001b[39m'\u001b[39m]\n",
      "File \u001b[1;32m~\\AppData\\Local\\Packages\\PythonSoftwareFoundation.Python.3.10_qbz5n2kfra8p0\\LocalCache\\local-packages\\Python310\\site-packages\\selenium\\webdriver\\remote\\webdriver.py:429\u001b[0m, in \u001b[0;36mWebDriver.execute\u001b[1;34m(self, driver_command, params)\u001b[0m\n\u001b[0;32m    427\u001b[0m response \u001b[39m=\u001b[39m \u001b[39mself\u001b[39m\u001b[39m.\u001b[39mcommand_executor\u001b[39m.\u001b[39mexecute(driver_command, params)\n\u001b[0;32m    428\u001b[0m \u001b[39mif\u001b[39;00m response:\n\u001b[1;32m--> 429\u001b[0m     \u001b[39mself\u001b[39;49m\u001b[39m.\u001b[39;49merror_handler\u001b[39m.\u001b[39;49mcheck_response(response)\n\u001b[0;32m    430\u001b[0m     response[\u001b[39m'\u001b[39m\u001b[39mvalue\u001b[39m\u001b[39m'\u001b[39m] \u001b[39m=\u001b[39m \u001b[39mself\u001b[39m\u001b[39m.\u001b[39m_unwrap_value(\n\u001b[0;32m    431\u001b[0m         response\u001b[39m.\u001b[39mget(\u001b[39m'\u001b[39m\u001b[39mvalue\u001b[39m\u001b[39m'\u001b[39m, \u001b[39mNone\u001b[39;00m))\n\u001b[0;32m    432\u001b[0m     \u001b[39mreturn\u001b[39;00m response\n",
      "File \u001b[1;32m~\\AppData\\Local\\Packages\\PythonSoftwareFoundation.Python.3.10_qbz5n2kfra8p0\\LocalCache\\local-packages\\Python310\\site-packages\\selenium\\webdriver\\remote\\errorhandler.py:243\u001b[0m, in \u001b[0;36mErrorHandler.check_response\u001b[1;34m(self, response)\u001b[0m\n\u001b[0;32m    241\u001b[0m         alert_text \u001b[39m=\u001b[39m value[\u001b[39m'\u001b[39m\u001b[39malert\u001b[39m\u001b[39m'\u001b[39m]\u001b[39m.\u001b[39mget(\u001b[39m'\u001b[39m\u001b[39mtext\u001b[39m\u001b[39m'\u001b[39m)\n\u001b[0;32m    242\u001b[0m     \u001b[39mraise\u001b[39;00m exception_class(message, screen, stacktrace, alert_text)  \u001b[39m# type: ignore[call-arg]  # mypy is not smart enough here\u001b[39;00m\n\u001b[1;32m--> 243\u001b[0m \u001b[39mraise\u001b[39;00m exception_class(message, screen, stacktrace)\n",
      "\u001b[1;31mWebDriverException\u001b[0m: Message: unknown error: Chrome failed to start: exited normally.\n  (unknown error: DevToolsActivePort file doesn't exist)\n  (The process started from chrome location C:\\Program Files\\Google\\Chrome\\Application\\chrome.exe is no longer running, so ChromeDriver is assuming that Chrome has crashed.)\nStacktrace:\nBacktrace:\n\t(No symbol) [0x00886643]\n\t(No symbol) [0x0081BE21]\n\t(No symbol) [0x0071DA9D]\n\t(No symbol) [0x0073F2A7]\n\t(No symbol) [0x0073A899]\n\t(No symbol) [0x00776917]\n\t(No symbol) [0x0077655C]\n\t(No symbol) [0x0076FB76]\n\t(No symbol) [0x007449C1]\n\t(No symbol) [0x00745E5D]\n\tGetHandleVerifier [0x00AFA142+2497106]\n\tGetHandleVerifier [0x00B285D3+2686691]\n\tGetHandleVerifier [0x00B2BB9C+2700460]\n\tGetHandleVerifier [0x00933B10+635936]\n\t(No symbol) [0x00824A1F]\n\t(No symbol) [0x0082A418]\n\t(No symbol) [0x0082A505]\n\t(No symbol) [0x0083508B]\n\tBaseThreadInitThunk [0x772C7D69+25]\n\tRtlInitializeExceptionChain [0x77C4BB9B+107]\n\tRtlClearBits [0x77C4BB1F+191]\n"
     ]
    }
   ],
   "source": [
    "import selenium\n",
    "from selenium import webdriver\n",
    "from selenium.webdriver.chrome.options import Options\n",
    "\n",
    "\n",
    "options = webdriver.ChromeOptions()\n",
    "options.add_argument('user-data-dir=C:\\\\Users\\\\András\\\\AppData\\\\Local\\\\Google\\\\Chrome\\\\User Data')\n",
    "driver = webdriver.Chrome('chromedriver.exe', chrome_options=options)\n",
    "driver.get(\"https://music.youtube.com/playlist?list=LM\")\n",
    "\n"
   ]
  }
 ],
 "metadata": {
  "kernelspec": {
   "display_name": "Python 3",
   "language": "python",
   "name": "python3"
  },
  "language_info": {
   "codemirror_mode": {
    "name": "ipython",
    "version": 3
   },
   "file_extension": ".py",
   "mimetype": "text/x-python",
   "name": "python",
   "nbconvert_exporter": "python",
   "pygments_lexer": "ipython3",
   "version": "3.10.9"
  },
  "orig_nbformat": 4,
  "vscode": {
   "interpreter": {
    "hash": "eb26704fb02eae938e2f66a0b5827a81cc0efb2c666e8669733b73a6ffa9c7d3"
   }
  }
 },
 "nbformat": 4,
 "nbformat_minor": 2
}
