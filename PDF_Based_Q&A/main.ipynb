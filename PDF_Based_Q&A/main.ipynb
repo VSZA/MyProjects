{
 "cells": [
  {
   "cell_type": "code",
   "execution_count": 1,
   "metadata": {},
   "outputs": [],
   "source": [
    "from chatterbot import ChatBot\n",
    "from chatterbot.trainers import ListTrainer\n",
    "from chatterbot.trainers import ChatterBotCorpusTrainer"
   ]
  },
  {
   "cell_type": "code",
   "execution_count": null,
   "metadata": {},
   "outputs": [],
   "source": [
    "my_bot = ChatBot(name='PyBot', read_only = True, logic_adapters = ['chatterbot.logic.MathmaticalEvaluation','chatterbot.logic.BestMatch'])\n",
    "corpus_trainer = ChatterBotCorpusTrainer(my_bot)\n",
    "corpus_trainer.train('chatterbot.corpus.english')"
   ]
  },
  {
   "cell_type": "code",
   "execution_count": 7,
   "metadata": {},
   "outputs": [
    {
     "name": "stdout",
     "output_type": "stream",
     "text": [
      "a) 3. „Meg van írva: »Az én házamat imádság házának nevezik«, ti pedig rablók barlangjává teszitek.”\n",
      "b) Jeruzsálem\n",
      "c) Kereszténység\n",
      "d) 1. Azért, mert a köznép Isten küldöttjét látta benne.\n",
      "\n",
      "\n"
     ]
    }
   ],
   "source": [
    "import os\n",
    "from pyChatGPT import ChatGPT\n",
    "input_txt = \"1. A feladat a keresztény vallás születésével kapcsolatos. Oldja meg a feladatokat a források és ismeretei segítségével! (Elemenként 1 pont.) A) „Amint beért [a városba], felbolydult az egész város, és ezt kérdezgették: Kicsoda ez? A sokaság ezt mondta: Ő Jézus, a galileai Názáretből való próféta. Azután Jézus bement a templomba, és kiűzte mindazokat, akik a templomban árusítottak és vásároltak, a pénzváltók asztalait és a galambárusok székeit pedig felborította, és ezt mondta nekik: […].”  B) „[Így szólt Jézus:] Mondom nektek, hogy elvétetik tőletek az Isten országa, és olyan népnek adatik, amely megtermi annak gyümölcsét. […] Amikor a főpapok hallották példázatait, megértették, hogy róluk beszél. Szerették volna elfogni, de féltek a sokaságtól, mert az prófétának tartotta.” (Részletek a Bibliából, Máté evangéliumából) a) Hogyan folytatódik az A) betűjelű idézet? Karikázza be az egyetlen megfelelő folytatás sorszámát!  1. „Hozsánna a Dávid Fiának! Áldott, aki jön az Úr nevében!” 2. „Új parancsolatot adok nektek, hogy szeressétek egymást: ahogyan én szerettelek titeket, ti is úgy szeressétek egymást! Arról fogja megtudni mindenki, hogy az én tanítványaim vagytok, ha szeretitek egymást.” 3. „Meg van írva: »Az én házamat imádság házának nevezik«, ti pedig rablók barlangjává teszitek.” b) Nevezze meg azt a várost, ahol az A) betűjelű idézetben szereplő események játszódtak! ……………………………… c) Nevezze meg azt a vallást, amelynek temploma és főpapjai szerepelnek az idézetekben! ……………………………… d) Döntse el az idézett forrásrészletek alapján, miért nem vetették fogságba Jézust az idézett események során a főpapok! Karikázza be az egyetlen helyes válasz sorszámát! 1. Azért, mert a köznép Isten küldöttjét látta benne. 2. Azért, mert sokan őt tekintették az egyház fejének. 3. Azért, mert a római helytartó nem adott rá engedélyt. \"\n",
    "session_token = ''\n",
    "api = ChatGPT(session_token)\n",
    
    "resp = api.send_message(input_txt)\n",
    "resp_txt = resp['message']\n",
    "print(resp['message'])\n"
   ]
  }
 ],
 "metadata": {
  "kernelspec": {
   "display_name": "Python 3",
   "language": "python",
   "name": "python3"
  },
  "language_info": {
   "codemirror_mode": {
    "name": "ipython",
    "version": 3
   },
   "file_extension": ".py",
   "mimetype": "text/x-python",
   "name": "python",
   "nbconvert_exporter": "python",
   "pygments_lexer": "ipython3",
   "version": "3.10.9"
  },
  "orig_nbformat": 4,
  "vscode": {
   "interpreter": {
    "hash": "eb26704fb02eae938e2f66a0b5827a81cc0efb2c666e8669733b73a6ffa9c7d3"
   }
  }
 },
 "nbformat": 4,
 "nbformat_minor": 2
}
