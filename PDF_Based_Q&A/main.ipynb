{
 "cells": [
  {
   "cell_type": "code",
   "execution_count": 1,
   "metadata": {},
   "outputs": [],
   "source": [
    "from chatterbot import ChatBot\n",
    "from chatterbot.trainers import ListTrainer\n",
    "from chatterbot.trainers import ChatterBotCorpusTrainer"
   ]
  },
  {
   "cell_type": "code",
   "execution_count": null,
   "metadata": {},
   "outputs": [],
   "source": [
    "my_bot = ChatBot(name='PyBot', read_only = True, logic_adapters = ['chatterbot.logic.MathmaticalEvaluation','chatterbot.logic.BestMatch'])\n",
    "corpus_trainer = ChatterBotCorpusTrainer(my_bot)\n",
    "corpus_trainer.train('chatterbot.corpus.english')"
   ]
  },
  {
   "cell_type": "code",
   "execution_count": 7,
   "metadata": {},
   "outputs": [
    {
     "name": "stdout",
     "output_type": "stream",
     "text": [
      "a) 3. „Meg van írva: »Az én házamat imádság házának nevezik«, ti pedig rablók barlangjává teszitek.”\n",
      "b) Jeruzsálem\n",
      "c) Kereszténység\n",
      "d) 1. Azért, mert a köznép Isten küldöttjét látta benne.\n",
      "\n",
      "\n"
     ]
    }
   ],
   "source": [
    "import os\n",
    "from pyChatGPT import ChatGPT\n",
    "input_txt = \"1. A feladat a keresztény vallás születésével kapcsolatos. Oldja meg a feladatokat a források és ismeretei segítségével! (Elemenként 1 pont.) A) „Amint beért [a városba], felbolydult az egész város, és ezt kérdezgették: Kicsoda ez? A sokaság ezt mondta: Ő Jézus, a galileai Názáretből való próféta. Azután Jézus bement a templomba, és kiűzte mindazokat, akik a templomban árusítottak és vásároltak, a pénzváltók asztalait és a galambárusok székeit pedig felborította, és ezt mondta nekik: […].”  B) „[Így szólt Jézus:] Mondom nektek, hogy elvétetik tőletek az Isten országa, és olyan népnek adatik, amely megtermi annak gyümölcsét. […] Amikor a főpapok hallották példázatait, megértették, hogy róluk beszél. Szerették volna elfogni, de féltek a sokaságtól, mert az prófétának tartotta.” (Részletek a Bibliából, Máté evangéliumából) a) Hogyan folytatódik az A) betűjelű idézet? Karikázza be az egyetlen megfelelő folytatás sorszámát!  1. „Hozsánna a Dávid Fiának! Áldott, aki jön az Úr nevében!” 2. „Új parancsolatot adok nektek, hogy szeressétek egymást: ahogyan én szerettelek titeket, ti is úgy szeressétek egymást! Arról fogja megtudni mindenki, hogy az én tanítványaim vagytok, ha szeretitek egymást.” 3. „Meg van írva: »Az én házamat imádság házának nevezik«, ti pedig rablók barlangjává teszitek.” b) Nevezze meg azt a várost, ahol az A) betűjelű idézetben szereplő események játszódtak! ……………………………… c) Nevezze meg azt a vallást, amelynek temploma és főpapjai szerepelnek az idézetekben! ……………………………… d) Döntse el az idézett forrásrészletek alapján, miért nem vetették fogságba Jézust az idézett események során a főpapok! Karikázza be az egyetlen helyes válasz sorszámát! 1. Azért, mert a köznép Isten küldöttjét látta benne. 2. Azért, mert sokan őt tekintették az egyház fejének. 3. Azért, mert a római helytartó nem adott rá engedélyt. \"\n",
    "session_token = 'eyJhbGciOiJkaXIiLCJlbmMiOiJBMjU2R0NNIn0..ahJTJgR5890QRGwb.4evzUCEBK9s-n46zBPGfR7KNip-M6ReW999cEsartERrcjRT8n0RHbLyFpv6oWYrfSzl1PTqkZt1W2WIIp5Xj4WKjL_4dGc21UjeLsimLee_jAIL3_GkgieHpfckBVEqrSR42qNqnYuRRjmL2oY9IVprXID73Ie62wLjXYP-RXc4OHYSYtcgwNNx6nhEBCwPl3Qmr5h2uKNmDSM3visc3ScKOEls1afJ6Ldyh6rc8vr1MgQrJ7CcWYIjOvxbrhK2yLUJnH5w5wiSBuPtSt0J46nJuNoakUpwJl3mzZ8MDJB3YqcyU4sjQ7azCYVNQ9Yl6dfqvj3qXMLp3wT-RMuYLnjlOeIC87dLqXNghvH5jOf0Ost6d-iHzq8busJjj0cvmiwkT30IDqB0sQRfYnC7LbSKMskhqJCdcQWQVz9OHO8FBk5T_BNi3MCYBtwMXNORpLzq74nNGwDg0bYzfg9G9ue-KbWCzAsIA4IcRMwPTYmPzQRm6F9VoKp_nNOetGohDzdC0llw161dNG56wyDF5VqREOXqE-dE-chEzHNk4imvSjTPZi3xSZVuPzsXb5HmunAeObpVh-fiWHcVPPGYyFFUdK3RFtMTLHQEv6g6iLJMjvTxuzE2NILnuC0ysprsri3m0DYfDCtDsXGQOGNgX4vi2MWeTzhatp2hdOK2pPPmeZImUaWcU5OEJ87GgAwk1G5Ej9P87GPTrLZdxe7gzcJk0pr7NIRu_mTADRdmgxDEKgnYDpP5IGgsDicsedIQJ8rNb0LYaWmdPLU4-5fUTwej9VT_hS4mA1DIm3xAmtyBsqGwQknhUb7mHjCMa8muWqD7RKqr1MWiRpH_HhGxOsLfcKN3nX8s3we2CtTvyO2giIS2s8NSht5VhRIYO5UdEOmsfZNrWuZDBawH65lDjxtRPVaVoe6GaSrWPnlEXg2MbWyWZBRNvzNcfGCN8d0IKN-xdLcyPXg8yS-SlMJMe4TUB7id_IFIYmhZF00w27WkpXoOMrJDOk_33DcSP8O41iy5aHF7dlp_oe6rguIey2Z2ld4H67w1QE0y6HYFojdkyeheROWuko9aSXusvcXsUXMpOL39Tma9aXpPosKKKcA3PlSounPyCa9MMOqGCjX6o8Xlt3-1CD7I6YG0VuYxfXK87iEr2mNmoXdN2k4Y3Z0D3bUVM_mcGb2GnIoV2Z-_FCbgp2GoB5Ce_3XK7-jTQUG2iF4U_fFtUCKxubUat_K8TVFBT-3o3J102mfMj3y0Ft5bMkfHUbE98GLPmyqwszaNGjNtT8NgybLdgYhKnU9Qq012sTIjS6mG5Lh2mnN-HfOBCPj2zlES317mMhi7t1ip7pQlAk2LaLyFlVDnZDeQoqlZRzy6dc7RKG3eZ_waGTkbv1AWjCOoM5cwObVzfaoSjBZPJyzcEvF5wI3PcT5niakHfn2wiBIRTv4l3FAlUKGMcJbDJ9cCEchvJqwUb2Iq5IeyF84DQTd1OJ38NjKM5NjiuY6Qu0Q58yYJCKk25bexcH2baaL8BOxbY9JbaLKOOJayCpkZ2W98wcGsynoTEe7ATLUwitnIYI9jNgXB-CGmElOX2etqrmbopp59E6BpUOVw13p7GgyqAgyD96Z6O5igtSUZU9BCFC7UDFS8Mfx2978CQqVRV7N5XJfaN5AgpZygO38RLsuzfnooK4L_j_e4H0oN-0RZttsCv26-a7Vvvrj_dgFS14xPWYNXhZPuokzNjagkSAEIfQgEJOoEXJQ00PekL1p3tEeGfYKlSo08Dk4CpEnqQiOLuaEnhHaM8ZcpRENXo6qCC9YoUXHbkWGPaPg2zExgS0WMk8ZvuFp4AfU5EP6AQPU2_3PWDdcDAYyqlx1aR1XKH2sD2eEK842xYfYLDtXdKlLxZFgnA-f753ZZF18zt-q7iXo-bXLdCchtxxbfvskD7vRbD2TSQA1G4ThAUJ0x1wvn2FVQ3uvCn99c5plLbQmLO2pUXjV0eGV_SWzgF-utvMLhHYS-5hUfdavKTjNWXgDDESltaSVSjXAo5U8JHOdUJEno1QRMbbf_9z-BoNJWlgpoFAGoaNn4y7DaQhxy7jTmo3o8dNIumezNlJrblcEm24-zs66m3Q9-hr9OYdwjPaYA_je1HXPJUsqg-HaiI0RnMuAI6g09NYhgV3F-EwMl_u9wBYOxVUfLWqBk1d8mJj6-WZ-_V4jPqfQiRRLIaxvzQyfDRm6eA_-MtYBoMrBRkq4cNQffvmBSS5AFE87Kci0VOoo9uJtl.zE4m_0V7-fO6L-UUAaCfyA'\n",
    "api = ChatGPT(session_token)\n",
    "# api2 = ChatGPT(email='vszandras@gmail.com', password='Sardna727362')\n",
    "resp = api.send_message(input_txt)\n",
    "resp_txt = resp['message']\n",
    "print(resp['message'])\n"
   ]
  }
 ],
 "metadata": {
  "kernelspec": {
   "display_name": "Python 3",
   "language": "python",
   "name": "python3"
  },
  "language_info": {
   "codemirror_mode": {
    "name": "ipython",
    "version": 3
   },
   "file_extension": ".py",
   "mimetype": "text/x-python",
   "name": "python",
   "nbconvert_exporter": "python",
   "pygments_lexer": "ipython3",
   "version": "3.10.9"
  },
  "orig_nbformat": 4,
  "vscode": {
   "interpreter": {
    "hash": "eb26704fb02eae938e2f66a0b5827a81cc0efb2c666e8669733b73a6ffa9c7d3"
   }
  }
 },
 "nbformat": 4,
 "nbformat_minor": 2
}
